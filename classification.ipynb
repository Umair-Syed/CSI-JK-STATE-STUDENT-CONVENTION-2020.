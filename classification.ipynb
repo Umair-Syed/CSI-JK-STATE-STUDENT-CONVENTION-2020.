{
 "cells": [
  {
   "cell_type": "markdown",
   "metadata": {
    "id": "6UWeIdlJsx9S"
   },
   "source": [
    "# Classification Model "
   ]
  },
  {
   "cell_type": "code",
   "execution_count": 2,
   "metadata": {
    "id": "lZz6o4sfuUgE"
   },
   "outputs": [],
   "source": [
    "import numpy as np\n",
    "import os\n",
    "\n",
    "import tensorflow as tf\n",
    "assert tf.__version__.startswith('2')\n",
    "\n",
    "from tflite_model_maker import configs\n",
    "from tflite_model_maker import ExportFormat\n",
    "from tflite_model_maker import model_spec\n",
    "from tflite_model_maker import text_classifier\n",
    "from tflite_model_maker import TextClassifierDataLoader"
   ]
  },
  {
   "cell_type": "code",
   "execution_count": 3,
   "metadata": {
    "id": "2MN7wH9wuX5q"
   },
   "outputs": [],
   "source": [
    "# specifying classifier. Mobilebert is light and good for mobile devices\n",
    "spec = model_spec.get('mobilebert_classifier')"
   ]
  },
  {
   "cell_type": "code",
   "execution_count": null,
   "metadata": {},
   "outputs": [],
   "source": [
    "# importing data. Data is downloaded from Kaggle\n",
    "train_data = TextClassifierDataLoader.from_csv(\n",
    "      filename=os.path.join(os.path.join('/content/Deceptive_cleanned_train.csv')),\n",
    "      text_column='Sentence',\n",
    "      label_column='Label',\n",
    "      model_spec=spec)\n",
    "test_data = TextClassifierDataLoader.from_csv(\n",
    "      filename=os.path.join(os.path.join('/content/Deceptive_cleanned_test.csv')),\n",
    "      text_column='Sentence',\n",
    "      label_column='Label',\n",
    "      model_spec=spec)\n",
    "    "
   ]
  },
  {
   "cell_type": "code",
   "execution_count": 5,
   "metadata": {
    "colab": {
     "base_uri": "https://localhost:8080/"
    },
    "id": "rpYBWzyhE4te",
    "outputId": "e60a0ab4-6412-468e-8f8d-7b4c4386227d"
   },
   "outputs": [
    {
     "name": "stdout",
     "output_type": "stream",
     "text": [
      "INFO:tensorflow:Retraining the models...\n"
     ]
    },
    {
     "name": "stderr",
     "output_type": "stream",
     "text": [
      "INFO:tensorflow:Retraining the models...\n"
     ]
    },
    {
     "name": "stdout",
     "output_type": "stream",
     "text": [
      "Epoch 1/3\n",
      " 1/31 [..............................] - ETA: 37:58 - loss: 3.3617 - test_accuracy: 0.2708WARNING:tensorflow:From /usr/local/lib/python3.6/dist-packages/tensorflow/python/ops/summary_ops_v2.py:1371: stop (from tensorflow.python.eager.profiler) is deprecated and will be removed after 2020-07-01.\n",
      "Instructions for updating:\n",
      "use `tf.profiler.experimental.stop` instead.\n"
     ]
    },
    {
     "name": "stderr",
     "output_type": "stream",
     "text": [
      "WARNING:tensorflow:From /usr/local/lib/python3.6/dist-packages/tensorflow/python/ops/summary_ops_v2.py:1371: stop (from tensorflow.python.eager.profiler) is deprecated and will be removed after 2020-07-01.\n",
      "Instructions for updating:\n",
      "use `tf.profiler.experimental.stop` instead.\n"
     ]
    },
    {
     "name": "stdout",
     "output_type": "stream",
     "text": [
      "31/31 [==============================] - 624s 18s/step - loss: 3.1963 - test_accuracy: 0.3886\n",
      "Epoch 2/3\n",
      "31/31 [==============================] - 553s 18s/step - loss: 1.1747 - test_accuracy: 0.6661\n",
      "Epoch 3/3\n",
      "31/31 [==============================] - 550s 18s/step - loss: 0.9068 - test_accuracy: 0.6664\n"
     ]
    }
   ],
   "source": [
    "model = text_classifier.create(train_data, model_spec=spec)"
   ]
  },
  {
   "cell_type": "code",
   "execution_count": null,
   "metadata": {},
   "outputs": [],
   "source": [
    "loss, acc = model.evaluate(test_data)"
   ]
  },
  {
   "cell_type": "code",
   "execution_count": 7,
   "metadata": {
    "id": "Twew0uWjMsAM"
   },
   "outputs": [],
   "source": [
    "#Since MobileBERT is too big for on-device applications \n",
    "#use dynamic range quantization on the model to compress it by almost 4x with minimal performance degradation.\n",
    "config = configs.QuantizationConfig.create_dynamic_range_quantization(optimizations=[tf.lite.Optimize.OPTIMIZE_FOR_LATENCY])\n",
    "config._experimental_new_quantizer = True"
   ]
  },
  {
   "cell_type": "code",
   "execution_count": null,
   "metadata": {},
   "outputs": [],
   "source": [
    "model.export(export_dir='mobilebert/', quantization_config=config)"
   ]
  }
 ],
 "metadata": {
  "accelerator": "TPU",
  "colab": {
   "collapsed_sections": [],
   "name": "classification",
   "provenance": [],
   "toc_visible": true
  },
  "kernelspec": {
   "display_name": "Python 3",
   "language": "python",
   "name": "python3"
  },
  "language_info": {
   "codemirror_mode": {
    "name": "ipython",
    "version": 3
   },
   "file_extension": ".py",
   "mimetype": "text/x-python",
   "name": "python",
   "nbconvert_exporter": "python",
   "pygments_lexer": "ipython3",
   "version": "3.8.5"
  }
 },
 "nbformat": 4,
 "nbformat_minor": 1
}
